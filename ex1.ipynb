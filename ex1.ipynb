{
  "nbformat": 4,
  "nbformat_minor": 0,
  "metadata": {
    "colab": {
      "provenance": [],
      "authorship_tag": "ABX9TyP0CoRNM3INQJ5qUxnI0ij5",
      "include_colab_link": true
    },
    "kernelspec": {
      "name": "python3",
      "display_name": "Python 3"
    },
    "language_info": {
      "name": "python"
    }
  },
  "cells": [
    {
      "cell_type": "markdown",
      "metadata": {
        "id": "view-in-github",
        "colab_type": "text"
      },
      "source": [
        "<a href=\"https://colab.research.google.com/github/cn0r19/AI/blob/main/ex1.ipynb\" target=\"_parent\"><img src=\"https://colab.research.google.com/assets/colab-badge.svg\" alt=\"Open In Colab\"/></a>"
      ]
    },
    {
      "cell_type": "code",
      "execution_count": null,
      "metadata": {
        "id": "wneg1PT4laQE"
      },
      "outputs": [],
      "source": []
    },
    {
      "cell_type": "markdown",
      "source": [
        "### **this is a text cell**"
      ],
      "metadata": {
        "id": "JeX2ABaWlhCo"
      }
    },
    {
      "cell_type": "code",
      "source": [
        "import numpy as np # Make numpy available using np"
      ],
      "metadata": {
        "id": "5uFG87i0ltlh"
      },
      "execution_count": null,
      "outputs": []
    },
    {
      "cell_type": "code",
      "source": [
        "print(\"\\nShowing some basic math on arrays\")\n",
        "b = np.array([0,1,4,3,2])\n",
        "\n",
        "print(\"Average: {}\".format(np.max(b)))\n",
        "print(\"Max: {}\".format(np.average(b)))\n",
        "print(\"Max Index: {}\".format(np.argmax(b)))"
      ],
      "metadata": {
        "colab": {
          "base_uri": "https://localhost:8080/"
        },
        "id": "zLLoUVaSmMJv",
        "outputId": "f513333f-3819-40ad-a8b8-a3b01a120dd5"
      },
      "execution_count": null,
      "outputs": [
        {
          "output_type": "stream",
          "name": "stdout",
          "text": [
            "\n",
            "Showing some basic math on arrays\n",
            "Average: 4\n",
            "Max: 2.0\n",
            "Max Index: 2\n"
          ]
        }
      ]
    }
  ]
}