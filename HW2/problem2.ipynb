{
  "nbformat": 4,
  "nbformat_minor": 0,
  "metadata": {
    "colab": {
      "provenance": [],
      "authorship_tag": "ABX9TyPH+ojkb7wnD+Ij5zTPjL6V",
      "include_colab_link": true
    },
    "kernelspec": {
      "name": "python3",
      "display_name": "Python 3"
    },
    "language_info": {
      "name": "python"
    }
  },
  "cells": [
    {
      "cell_type": "markdown",
      "metadata": {
        "id": "view-in-github",
        "colab_type": "text"
      },
      "source": [
        "<a href=\"https://colab.research.google.com/github/cn0r19/AI/blob/main/HW2/problem2.ipynb\" target=\"_parent\"><img src=\"https://colab.research.google.com/assets/colab-badge.svg\" alt=\"Open In Colab\"/></a>"
      ]
    },
    {
      "cell_type": "code",
      "execution_count": 1,
      "metadata": {
        "id": "clLLC959hJSZ"
      },
      "outputs": [],
      "source": [
        "from collections import deque\n",
        "\n",
        "def PotentialFriends(G, User):\n",
        "\n",
        "  if User not in G:\n",
        "    return [], list(g.keys())\n",
        "\n",
        "  visited = {User}\n",
        "  queue = deque([User])\n",
        "\n",
        "  while queue:\n",
        "    vertex = queue.popleft()\n",
        "\n",
        "    for neighbor in G[User]:\n",
        "      if neighbor not in visited:\n",
        "        visited.add(neighbor)\n",
        "        queue.append(neighbor)\n",
        "\n",
        "  allUsers = set(G.keys())\n",
        "  notFriendsYet = list(allUsers - visited)\n",
        "\n",
        "  return notFriendsYet"
      ]
    },
    {
      "cell_type": "code",
      "source": [
        "graph2 = {\n",
        "    'Adam': ['Maria'],\n",
        "    'Maria': ['Sophia', 'Maya', 'David'],\n",
        "    'Sophia': ['Maya', 'Maria'],\n",
        "    'Maya': ['Sophia', 'Maria', 'David'],\n",
        "    'David': ['Maria', 'Maya']\n",
        "}\n",
        "\n",
        "print(PotentialFriends(graph2, 'Adam'))\n",
        "print(PotentialFriends(graph2, 'David'))\n",
        "print(PotentialFriends(graph2, 'Sophia'))"
      ],
      "metadata": {
        "colab": {
          "base_uri": "https://localhost:8080/"
        },
        "id": "JPc9Kxuthhr4",
        "outputId": "4bf2fa75-0af8-45b7-e69a-91fd81b1b3e1"
      },
      "execution_count": 2,
      "outputs": [
        {
          "output_type": "stream",
          "name": "stdout",
          "text": [
            "['Sophia', 'David', 'Maya']\n",
            "['Sophia', 'Adam']\n",
            "['Adam', 'David']\n"
          ]
        }
      ]
    }
  ]
}