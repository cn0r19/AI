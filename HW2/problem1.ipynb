{
  "nbformat": 4,
  "nbformat_minor": 0,
  "metadata": {
    "colab": {
      "provenance": [],
      "authorship_tag": "ABX9TyMHOwEG2UGzBcgDTjUuIn1a",
      "include_colab_link": true
    },
    "kernelspec": {
      "name": "python3",
      "display_name": "Python 3"
    },
    "language_info": {
      "name": "python"
    }
  },
  "cells": [
    {
      "cell_type": "markdown",
      "metadata": {
        "id": "view-in-github",
        "colab_type": "text"
      },
      "source": [
        "<a href=\"https://colab.research.google.com/github/cn0r19/AI/blob/main/HW2/problem1.ipynb\" target=\"_parent\"><img src=\"https://colab.research.google.com/assets/colab-badge.svg\" alt=\"Open In Colab\"/></a>"
      ]
    },
    {
      "cell_type": "code",
      "execution_count": null,
      "metadata": {
        "collapsed": true,
        "id": "ZMvi0M6vv6GE"
      },
      "outputs": [],
      "source": [
        "from collections import deque\n",
        "\n",
        "def FindFriends(G, User, K):\n",
        "  queue = deque([(User, 0)])\n",
        "  visited = {User}\n",
        "  nodes_at_level = []\n",
        "\n",
        "  if K == 0:\n",
        "    return [User]\n",
        "\n",
        "  while queue:\n",
        "    vertex, current_level = queue.popleft()\n",
        "\n",
        "    if current_level + 1 == K:\n",
        "      for neighbor in graph.get(vertex, []):\n",
        "        if neighbor not in visited:\n",
        "          nodes_at_level.append(neighbor)\n",
        "      continue\n",
        "\n",
        "    if current_level >= K:\n",
        "      break\n",
        "\n",
        "    for neighbor in graph.get(vertex, []):\n",
        "      if neighbor not in visited:\n",
        "        visited.add(neighbor)\n",
        "        queue.append((neighbor, current_level + 1))\n",
        "\n",
        "  return nodes_at_level"
      ]
    },
    {
      "cell_type": "code",
      "source": [
        "graph = {\n",
        "    'Bob': ['Richard', 'Rob', 'Pam'],\n",
        "    'Richard': [],\n",
        "    'Rob': [],\n",
        "    'Pam': ['Roger', 'Peter'],\n",
        "    'Roger': ['Anna'],\n",
        "    'Peter': ['Amy'],\n",
        "    'Anna': [],\n",
        "    'Amy': []\n",
        "}\n",
        "\n",
        "print(FindFriends(graph, 'Bob', 3))"
      ],
      "metadata": {
        "colab": {
          "base_uri": "https://localhost:8080/"
        },
        "id": "PN2V_n-gxrrF",
        "outputId": "dc63d888-b4b0-4103-940e-26603b212dc8"
      },
      "execution_count": null,
      "outputs": [
        {
          "output_type": "stream",
          "name": "stdout",
          "text": [
            "['Anna', 'Amy']\n"
          ]
        }
      ]
    }
  ]
}